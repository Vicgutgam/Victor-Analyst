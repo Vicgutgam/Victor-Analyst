{
 "cells": [
  {
   "cell_type": "markdown",
   "metadata": {},
   "source": [
    "Creación de Baraja de cartas:\n",
    "\n",
    "54 cartas en total:\n",
    "\n",
    "Agua: 18\n",
    "\n",
    "Flota mercante: 15 cartas que serán en total 7 flotas de 1 moneda, 5 de 2 y 3 de 3.\n",
    "\n",
    "Navío de Guerra y flota: 6 en total, 3 por flota y 3 por navío de guerra.\n",
    "\n",
    "Flota armada: 9 en total, 5 balandras y 4 bergantines.\n",
    "\n",
    "Tormenta: 6 en total,1 de nivel DIOS, 2 tormentas nivel medio y 3 por tormenta bajo.\n",
    "\n"
   ]
  },
  {
   "cell_type": "code",
   "execution_count": 1,
   "metadata": {},
   "outputs": [],
   "source": [
    "#Librerias, intalaciones y demás elementos necesarios.\n",
    "import random"
   ]
  },
  {
   "cell_type": "code",
   "execution_count": 2,
   "metadata": {},
   "outputs": [],
   "source": [
    "#bm significa barco mercante y va acompañado del nivel del barco y después de la nacionalidad.\n",
    "#ba significa barco armado y va acompañado del nivel del barco y después de la nacionalidad.\n",
    "\n",
    "baraja ={\"agua1\" : [0,0],\"agua2\" : [0,0],\"agua3\" : [0,0],\"agua4\" : [0,0],\"agua5\" : [0,0],\"agua6\" : [0,0],\"agua7\" : [0,0],\"agua8\" : [0,0],\"agua9\" : [0,0],\"agua10\" : [0,0],\"agua11\" : [0,0],\"agua12\" : [0,0],\"agua13\" : [0,0],\"agua14\" : [0,0],\"agua15\" : [0,0],\"agua16\" : [0,0],\"agua17\" : [0,0],\"agua18\" : [0,0],\n",
    "\n",
    "\"bm1e\":[1,1], \"bm2e\":[2,2], \"bm3e\":[3,3],\n",
    "\"bm1f\":[1,1], \"bm2f\":[2,2], \"bm3f\":[3,3],\n",
    "\"bm1i\":[1,1], \"bm2i\":[2,2], \"bm3i\":[3,3],\n",
    "\"bm1_1otros\":[1,1], \"bm1_2otros\":[1,1],\"bm1_3otros\":[1,1],\"bm2_1otros\":[3,3],\"bm2_2otros\":[3,3],\"bm2_3otros\":[3,3],\n",
    "\n",
    "\"tormenta_dios_1\": [10,10],\"tormenta_media_1\" : [3,3], \"tormenta_media_2\" : [3,3], \"tormenta_baja_1\" : [1,1], \"tormenta_baja_2\" : [1,1],\"tormenta_baja_3\" : [1,1], \n",
    "\n",
    "\"ba1esp\" :[2,2], \"ba2esp\" :[4,4],\n",
    "\"ba1ing\" :[2,2], \"ba2ing\" :[4,4],\n",
    "\"ba1fra\" :[2,2], \"ba2fra\" :[4,4],\n",
    "\"ba1otro\" :[2,2], \"ba1_2otro\" :[2,2], \"ba2otro\" :[4,4],\n",
    "\n",
    "\"navio_de_guerra_esp\" :[6,6], \"navio_de_guerra_ing\" :[6,6], \"navio_de_guerra_fra\" :[6,6],\n",
    "\n",
    "\"flota_armada_esp\" : [10,10],\"flota_armada_ing\" :[10,10],\"flota_armada_fra\" :[10,10],\n",
    "\n",
    "}"
   ]
  },
  {
   "cell_type": "code",
   "execution_count": 3,
   "metadata": {},
   "outputs": [],
   "source": [
    "#Bases del juego\n",
    "bases_del_juegos = [\"tipos_de_asentamiento\", \"tipos_de_construcciones\",\"objetivos\"]"
   ]
  },
  {
   "cell_type": "code",
   "execution_count": 4,
   "metadata": {},
   "outputs": [],
   "source": [
    "#Objetivos\n",
    "objetivos = \"Ser el último pirata con vida o el primero en alcanzar los 20 puntos de reputación\"\n",
    "\n",
    "#¿Cómo conseguir puntos?\n",
    "puntos = [\"Arrasar_ciudad\", \"derrotar_navío_de_guerra\", \"completar_guarida\", \"barco_armado\",\"vencer_a_la_flota\", \"tipos_de_barco\"]\n",
    "\n",
    "arrasar_ciudad = 5\n",
    "derrotar_navío_de_guerra: 3 \n",
    "completar_guarida = 5\n",
    "barco_armado = 1\n",
    "vencer_a_la_flota = 10\n"
   ]
  },
  {
   "cell_type": "code",
   "execution_count": 5,
   "metadata": {},
   "outputs": [],
   "source": [
    "#Construcciones en las bases:\n",
    "tipos_de_construcciones = [\"taberna\", \"astillero\",\"bote_salvavidas\", \"mercado\", \"muelle\"]\n",
    "\n",
    "taberna= [1,0]\n",
    "astillero = \"Repara las flotas\"\n",
    "bote_salvavidas = \"Permite rescatar el barco que iba a ser hundido, sobreviviendo con solamente una vida\"\n",
    "mercado = \"Más 1 de Oro por cada asalto victorioso\"\n",
    "muelle = \"Los barcos pueden no hacer nada durante el turno\"\n",
    "\n",
    "#Asentamientos:\n",
    "tipos_de_asentamiento= [\"isla_tortuga\", \"port_royal\",\"isla_caiman\", \"puerto_principe\", \"roatan\", \"cayena\"]\n",
    "isla_tortuga = \"Asentamiento neutro, se paga una moneda por barco que no sale a la mar en ese turno\"\n",
    "port_royale = \" Base de Corsario Inglés +1 a la resistencia en caso de tormenta y +1 de ingresos por ronda en la que hayas atrapado un barco mercante.\"\n",
    "isla_caiman = \"Base para piratas neutros. +1 de ingresos por barco mercante atrapado.\"\n",
    "puerto_principe = \"Base para piratas neutros. +1 de ingresos por barco mercante atrapado.\"\n",
    "roatan =  \"Base de Corsario español. +1 al ataque contra otros piratas y  +1 de ingresos por barco mercante atrapado.\"\n",
    "cayena = \"Base de Corsario frances, +1 a la resistencia contra ataques de piratas y flotas.\"\n"
   ]
  },
  {
   "cell_type": "code",
   "execution_count": 6,
   "metadata": {},
   "outputs": [],
   "source": [
    "#Barcos de los jugadores:\n",
    "\n",
    "tipos_de_barcos = [\"Barcos mercantes\",\"Barcos armados\", \"Navios de guerra\", \"Flotas\", \"buque_insignia\", \"balandra\", \"galeón\", \"bergantín\"]\n",
    "\n",
    "buque_insignia = [3,3]\n",
    "balandra =[3,3]\n",
    "bergantín = [4,4]\n",
    "galeón = [5,5]\n",
    "\n"
   ]
  },
  {
   "cell_type": "code",
   "execution_count": 7,
   "metadata": {},
   "outputs": [],
   "source": [
    "#Inventario de jugadores\n",
    "\n",
    "armada_jugador_1 = {\"buque_insignia\" : [3,3]}\n",
    "monedero_jugador_1 = 5\n",
    "jugador_2 = [buque_insignia]"
   ]
  },
  {
   "cell_type": "code",
   "execution_count": 10,
   "metadata": {},
   "outputs": [],
   "source": [
    "#Prueba de enfrentamiento\n",
    "def enfrentamiento ():\n",
    "    print (f\"Estos son los barcos que tienes: {', '.join(armada_jugador_1.keys())}\")\n",
    "    elección_de_barco = input(\"Qué barco deseas escoger?\")\n",
    "    if elección_de_barco in armada_jugador_1:\n",
    "        caract_barco = armada_jugador_1[elección_de_barco]\n",
    "        carta_aleatoria = random.choice(list(baraja.keys()))\n",
    "           # Obtener el valor de la carta aleatoria\n",
    "        valores_carta = baraja[carta_aleatoria]\n",
    "        print (carta_aleatoria, valores_carta)\n",
    "        resultado = []\n",
    "        for a,b in zip(caract_barco, valores_carta):\n",
    "           \n",
    "            resultado.append(a - b)\n",
    "            if sum(resultado) > 0:\n",
    "                print (\"VICTORIA\")\n",
    "            else:\n",
    "                del armada_jugador_1[elección_de_barco]\n",
    "                if len(armada_jugador_1) == 0:\n",
    "                    print (\"GAME OVER\")\n",
    "                print (\"Derrota\")\n",
    "        del carta_aleatoria\n",
    "    \n"
   ]
  },
  {
   "cell_type": "code",
   "execution_count": 11,
   "metadata": {},
   "outputs": [
    {
     "name": "stdout",
     "output_type": "stream",
     "text": [
      "Estos son los barcos que tienes: buque_insignia\n",
      "bm1f [1, 1]\n",
      "VICTORIA\n",
      "VICTORIA\n"
     ]
    }
   ],
   "source": [
    "enfrentamiento ()"
   ]
  },
  {
   "cell_type": "code",
   "execution_count": 13,
   "metadata": {},
   "outputs": [
    {
     "name": "stdout",
     "output_type": "stream",
     "text": [
      "54\n"
     ]
    }
   ],
   "source": [
    "# Listas de ejemplo\n",
    "print( len(baraja))"
   ]
  },
  {
   "cell_type": "code",
   "execution_count": 20,
   "metadata": {},
   "outputs": [],
   "source": [
    "def iniciar_juego():\n",
    "    print (\"\"\"Bienvenido grumetillo, ¿Estas preparado para esta aventura?\n",
    "Eres el capitan de un pequeño barco pirata y tu objetivo es convertirte un una leyenda. \n",
    "        \"\"\")\n",
    "    print (f\"\"\" Tu aventura empieza con un barco y 5 monedas de oro\"\"\")"
   ]
  },
  {
   "cell_type": "code",
   "execution_count": 21,
   "metadata": {},
   "outputs": [
    {
     "name": "stdout",
     "output_type": "stream",
     "text": [
      "Bienvenido grumetillo, ¿Estas preparado para esta aventura?\n",
      "Eres el capitan de un pequeño barco pirata y tu objetivo es convertirte un una leyenda. \n",
      "        \n",
      " Tu aventura empieza con un barco y 5 monedas de oro\n"
     ]
    }
   ],
   "source": [
    "iniciar_juego()"
   ]
  },
  {
   "cell_type": "code",
   "execution_count": null,
   "metadata": {},
   "outputs": [],
   "source": []
  }
 ],
 "metadata": {
  "kernelspec": {
   "display_name": "base",
   "language": "python",
   "name": "python3"
  },
  "language_info": {
   "codemirror_mode": {
    "name": "ipython",
    "version": 3
   },
   "file_extension": ".py",
   "mimetype": "text/x-python",
   "name": "python",
   "nbconvert_exporter": "python",
   "pygments_lexer": "ipython3",
   "version": "3.12.4"
  }
 },
 "nbformat": 4,
 "nbformat_minor": 2
}
